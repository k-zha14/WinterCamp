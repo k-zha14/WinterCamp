{
 "cells": [
  {
   "cell_type": "code",
   "execution_count": 1,
   "metadata": {
    "scrolled": false
   },
   "outputs": [],
   "source": [
    "from sklearn.datasets import load_breast_cancer\n",
    "import numpy as np\n",
    "from tqdm import tqdm\n"
   ]
  },
  {
   "cell_type": "markdown",
   "metadata": {},
   "source": [
    "## load data\n",
    "From sklearn, we know:\n",
    "212(M, 0), 357(B, 1)  \n",
    "https://scikit-learn.org/stable/modules/generated/sklearn.datasets.load_breast_cancer.html"
   ]
  },
  {
   "cell_type": "code",
   "execution_count": 2,
   "metadata": {
    "scrolled": true
   },
   "outputs": [
    {
     "name": "stdout",
     "output_type": "stream",
     "text": [
      "(569, 30) (569,)\n",
      "['malignant' 'benign']\n",
      "['mean radius' 'mean texture' 'mean perimeter' 'mean area'\n",
      " 'mean smoothness' 'mean compactness' 'mean concavity'\n",
      " 'mean concave points' 'mean symmetry' 'mean fractal dimension'\n",
      " 'radius error' 'texture error' 'perimeter error' 'area error'\n",
      " 'smoothness error' 'compactness error' 'concavity error'\n",
      " 'concave points error' 'symmetry error' 'fractal dimension error'\n",
      " 'worst radius' 'worst texture' 'worst perimeter' 'worst area'\n",
      " 'worst smoothness' 'worst compactness' 'worst concavity'\n",
      " 'worst concave points' 'worst symmetry' 'worst fractal dimension']\n"
     ]
    }
   ],
   "source": [
    "data = load_breast_cancer()\n",
    "\n",
    "# some basic info about data\n",
    "x, labels = data.data, data.target\n",
    "print(x.shape, labels.shape)\n",
    "print(data.target_names)\n",
    "print(data.feature_names)\n"
   ]
  },
  {
   "cell_type": "code",
   "execution_count": 3,
   "metadata": {
    "scrolled": true
   },
   "outputs": [],
   "source": [
    "import pandas as pd"
   ]
  },
  {
   "cell_type": "code",
   "execution_count": 4,
   "metadata": {
    "scrolled": false
   },
   "outputs": [
    {
     "data": {
      "text/html": [
       "<div>\n",
       "<style scoped>\n",
       "    .dataframe tbody tr th:only-of-type {\n",
       "        vertical-align: middle;\n",
       "    }\n",
       "\n",
       "    .dataframe tbody tr th {\n",
       "        vertical-align: top;\n",
       "    }\n",
       "\n",
       "    .dataframe thead th {\n",
       "        text-align: right;\n",
       "    }\n",
       "</style>\n",
       "<table border=\"1\" class=\"dataframe\">\n",
       "  <thead>\n",
       "    <tr style=\"text-align: right;\">\n",
       "      <th></th>\n",
       "      <th>mean radius</th>\n",
       "      <th>mean texture</th>\n",
       "      <th>mean perimeter</th>\n",
       "      <th>mean area</th>\n",
       "      <th>mean smoothness</th>\n",
       "      <th>mean compactness</th>\n",
       "      <th>mean concavity</th>\n",
       "      <th>mean concave points</th>\n",
       "      <th>mean symmetry</th>\n",
       "      <th>mean fractal dimension</th>\n",
       "      <th>...</th>\n",
       "      <th>worst texture</th>\n",
       "      <th>worst perimeter</th>\n",
       "      <th>worst area</th>\n",
       "      <th>worst smoothness</th>\n",
       "      <th>worst compactness</th>\n",
       "      <th>worst concavity</th>\n",
       "      <th>worst concave points</th>\n",
       "      <th>worst symmetry</th>\n",
       "      <th>worst fractal dimension</th>\n",
       "      <th>label</th>\n",
       "    </tr>\n",
       "  </thead>\n",
       "  <tbody>\n",
       "    <tr>\n",
       "      <td>0</td>\n",
       "      <td>17.99</td>\n",
       "      <td>10.38</td>\n",
       "      <td>122.80</td>\n",
       "      <td>1001.0</td>\n",
       "      <td>0.11840</td>\n",
       "      <td>0.27760</td>\n",
       "      <td>0.3001</td>\n",
       "      <td>0.14710</td>\n",
       "      <td>0.2419</td>\n",
       "      <td>0.07871</td>\n",
       "      <td>...</td>\n",
       "      <td>17.33</td>\n",
       "      <td>184.60</td>\n",
       "      <td>2019.0</td>\n",
       "      <td>0.1622</td>\n",
       "      <td>0.6656</td>\n",
       "      <td>0.7119</td>\n",
       "      <td>0.2654</td>\n",
       "      <td>0.4601</td>\n",
       "      <td>0.11890</td>\n",
       "      <td>0</td>\n",
       "    </tr>\n",
       "    <tr>\n",
       "      <td>1</td>\n",
       "      <td>20.57</td>\n",
       "      <td>17.77</td>\n",
       "      <td>132.90</td>\n",
       "      <td>1326.0</td>\n",
       "      <td>0.08474</td>\n",
       "      <td>0.07864</td>\n",
       "      <td>0.0869</td>\n",
       "      <td>0.07017</td>\n",
       "      <td>0.1812</td>\n",
       "      <td>0.05667</td>\n",
       "      <td>...</td>\n",
       "      <td>23.41</td>\n",
       "      <td>158.80</td>\n",
       "      <td>1956.0</td>\n",
       "      <td>0.1238</td>\n",
       "      <td>0.1866</td>\n",
       "      <td>0.2416</td>\n",
       "      <td>0.1860</td>\n",
       "      <td>0.2750</td>\n",
       "      <td>0.08902</td>\n",
       "      <td>0</td>\n",
       "    </tr>\n",
       "    <tr>\n",
       "      <td>2</td>\n",
       "      <td>19.69</td>\n",
       "      <td>21.25</td>\n",
       "      <td>130.00</td>\n",
       "      <td>1203.0</td>\n",
       "      <td>0.10960</td>\n",
       "      <td>0.15990</td>\n",
       "      <td>0.1974</td>\n",
       "      <td>0.12790</td>\n",
       "      <td>0.2069</td>\n",
       "      <td>0.05999</td>\n",
       "      <td>...</td>\n",
       "      <td>25.53</td>\n",
       "      <td>152.50</td>\n",
       "      <td>1709.0</td>\n",
       "      <td>0.1444</td>\n",
       "      <td>0.4245</td>\n",
       "      <td>0.4504</td>\n",
       "      <td>0.2430</td>\n",
       "      <td>0.3613</td>\n",
       "      <td>0.08758</td>\n",
       "      <td>0</td>\n",
       "    </tr>\n",
       "    <tr>\n",
       "      <td>3</td>\n",
       "      <td>11.42</td>\n",
       "      <td>20.38</td>\n",
       "      <td>77.58</td>\n",
       "      <td>386.1</td>\n",
       "      <td>0.14250</td>\n",
       "      <td>0.28390</td>\n",
       "      <td>0.2414</td>\n",
       "      <td>0.10520</td>\n",
       "      <td>0.2597</td>\n",
       "      <td>0.09744</td>\n",
       "      <td>...</td>\n",
       "      <td>26.50</td>\n",
       "      <td>98.87</td>\n",
       "      <td>567.7</td>\n",
       "      <td>0.2098</td>\n",
       "      <td>0.8663</td>\n",
       "      <td>0.6869</td>\n",
       "      <td>0.2575</td>\n",
       "      <td>0.6638</td>\n",
       "      <td>0.17300</td>\n",
       "      <td>0</td>\n",
       "    </tr>\n",
       "    <tr>\n",
       "      <td>4</td>\n",
       "      <td>20.29</td>\n",
       "      <td>14.34</td>\n",
       "      <td>135.10</td>\n",
       "      <td>1297.0</td>\n",
       "      <td>0.10030</td>\n",
       "      <td>0.13280</td>\n",
       "      <td>0.1980</td>\n",
       "      <td>0.10430</td>\n",
       "      <td>0.1809</td>\n",
       "      <td>0.05883</td>\n",
       "      <td>...</td>\n",
       "      <td>16.67</td>\n",
       "      <td>152.20</td>\n",
       "      <td>1575.0</td>\n",
       "      <td>0.1374</td>\n",
       "      <td>0.2050</td>\n",
       "      <td>0.4000</td>\n",
       "      <td>0.1625</td>\n",
       "      <td>0.2364</td>\n",
       "      <td>0.07678</td>\n",
       "      <td>0</td>\n",
       "    </tr>\n",
       "  </tbody>\n",
       "</table>\n",
       "<p>5 rows × 31 columns</p>\n",
       "</div>"
      ],
      "text/plain": [
       "   mean radius  mean texture  mean perimeter  mean area  mean smoothness  \\\n",
       "0        17.99         10.38          122.80     1001.0          0.11840   \n",
       "1        20.57         17.77          132.90     1326.0          0.08474   \n",
       "2        19.69         21.25          130.00     1203.0          0.10960   \n",
       "3        11.42         20.38           77.58      386.1          0.14250   \n",
       "4        20.29         14.34          135.10     1297.0          0.10030   \n",
       "\n",
       "   mean compactness  mean concavity  mean concave points  mean symmetry  \\\n",
       "0           0.27760          0.3001              0.14710         0.2419   \n",
       "1           0.07864          0.0869              0.07017         0.1812   \n",
       "2           0.15990          0.1974              0.12790         0.2069   \n",
       "3           0.28390          0.2414              0.10520         0.2597   \n",
       "4           0.13280          0.1980              0.10430         0.1809   \n",
       "\n",
       "   mean fractal dimension  ...  worst texture  worst perimeter  worst area  \\\n",
       "0                 0.07871  ...          17.33           184.60      2019.0   \n",
       "1                 0.05667  ...          23.41           158.80      1956.0   \n",
       "2                 0.05999  ...          25.53           152.50      1709.0   \n",
       "3                 0.09744  ...          26.50            98.87       567.7   \n",
       "4                 0.05883  ...          16.67           152.20      1575.0   \n",
       "\n",
       "   worst smoothness  worst compactness  worst concavity  worst concave points  \\\n",
       "0            0.1622             0.6656           0.7119                0.2654   \n",
       "1            0.1238             0.1866           0.2416                0.1860   \n",
       "2            0.1444             0.4245           0.4504                0.2430   \n",
       "3            0.2098             0.8663           0.6869                0.2575   \n",
       "4            0.1374             0.2050           0.4000                0.1625   \n",
       "\n",
       "   worst symmetry  worst fractal dimension  label  \n",
       "0          0.4601                  0.11890      0  \n",
       "1          0.2750                  0.08902      0  \n",
       "2          0.3613                  0.08758      0  \n",
       "3          0.6638                  0.17300      0  \n",
       "4          0.2364                  0.07678      0  \n",
       "\n",
       "[5 rows x 31 columns]"
      ]
     },
     "execution_count": 4,
     "metadata": {},
     "output_type": "execute_result"
    }
   ],
   "source": [
    "# reorganzie to pandas\n",
    "df_data = {}\n",
    "for i, feature in enumerate(data.feature_names):\n",
    "    df_data[feature] = list(x[:, i])\n",
    "    \n",
    "df_data['label'] = list(labels)\n",
    "df = pd.DataFrame(df_data)\n",
    "\n",
    "df.head()\n"
   ]
  },
  {
   "cell_type": "code",
   "execution_count": 5,
   "metadata": {
    "scrolled": true
   },
   "outputs": [
    {
     "name": "stdout",
     "output_type": "stream",
     "text": [
      "<class 'pandas.core.frame.DataFrame'>\n",
      "RangeIndex: 569 entries, 0 to 568\n",
      "Data columns (total 31 columns):\n",
      "mean radius                569 non-null float64\n",
      "mean texture               569 non-null float64\n",
      "mean perimeter             569 non-null float64\n",
      "mean area                  569 non-null float64\n",
      "mean smoothness            569 non-null float64\n",
      "mean compactness           569 non-null float64\n",
      "mean concavity             569 non-null float64\n",
      "mean concave points        569 non-null float64\n",
      "mean symmetry              569 non-null float64\n",
      "mean fractal dimension     569 non-null float64\n",
      "radius error               569 non-null float64\n",
      "texture error              569 non-null float64\n",
      "perimeter error            569 non-null float64\n",
      "area error                 569 non-null float64\n",
      "smoothness error           569 non-null float64\n",
      "compactness error          569 non-null float64\n",
      "concavity error            569 non-null float64\n",
      "concave points error       569 non-null float64\n",
      "symmetry error             569 non-null float64\n",
      "fractal dimension error    569 non-null float64\n",
      "worst radius               569 non-null float64\n",
      "worst texture              569 non-null float64\n",
      "worst perimeter            569 non-null float64\n",
      "worst area                 569 non-null float64\n",
      "worst smoothness           569 non-null float64\n",
      "worst compactness          569 non-null float64\n",
      "worst concavity            569 non-null float64\n",
      "worst concave points       569 non-null float64\n",
      "worst symmetry             569 non-null float64\n",
      "worst fractal dimension    569 non-null float64\n",
      "label                      569 non-null int64\n",
      "dtypes: float64(30), int64(1)\n",
      "memory usage: 137.9 KB\n"
     ]
    }
   ],
   "source": [
    "df.info()"
   ]
  },
  {
   "cell_type": "markdown",
   "metadata": {},
   "source": [
    "## Build CART tree"
   ]
  },
  {
   "cell_type": "code",
   "execution_count": 6,
   "metadata": {
    "scrolled": true
   },
   "outputs": [
    {
     "name": "stdout",
     "output_type": "stream",
     "text": [
      "(569, 31)\n"
     ]
    }
   ],
   "source": [
    "# add label to the matrix X as last col\n",
    "labels = np.expand_dims(labels, 1)\n",
    "data = np.c_[x, labels]\n",
    "print(data.shape)"
   ]
  },
  {
   "cell_type": "code",
   "execution_count": 7,
   "metadata": {
    "scrolled": false
   },
   "outputs": [
    {
     "name": "stdout",
     "output_type": "stream",
     "text": [
      "sep_point: 868.2\n",
      "gini_loss: 0.14502085890681446\n"
     ]
    }
   ],
   "source": [
    "def gini_loss(data, col, sep_value):\n",
    "    \"\"\"\n",
    "    Calculate gini loss, return float value.\n",
    "    \n",
    "    Args:\n",
    "      data, data set;\n",
    "      col, the feature column index;\n",
    "      sep_value, the speration value to devide the data into two groups;\n",
    "      \n",
    "    Returns:\n",
    "      loss, float gini value;\n",
    "    \"\"\"\n",
    "    assert col<31, \"Invalid feature col index\"\n",
    "    # count symbol, eg. d1_m means d1-less than spe_value and the lable is benign\n",
    "    n_data = data.shape[0]\n",
    "    d1_m, d1_b, d2_m, d2_b = 0, 0, 0, 0\n",
    "    d1 = data[list(data[:, col]<sep_value)]\n",
    "    d2 = data[list(data[:, col]>=sep_value)]\n",
    "    \n",
    "    # count\n",
    "    n_d1, n_d2 = d1.shape[0], d2.shape[0]\n",
    "    d1_m, d1_b = sum(d1[:, -1]<0.5), sum(d1[:, -1]>0.5)\n",
    "    d2_m, d2_b = sum(d2[:, -1]<0.5), sum(d2[:, -1]>0.5)\n",
    "#     print(n_data, n_d1, n_d2, d1_m, d1_b, d2_m, d2_b)\n",
    "    \n",
    "    # gini function, deal with zero division\n",
    "    if (n_d1 == 0):\n",
    "        loss = 2*(d2_m/n_d2*d2_b/n_d2)    # n_d2 equals n_data, since n_data=n_d1+n_d2\n",
    "    elif (n_d2 == 0):\n",
    "        loss = 2*(d1_m/n_d1*d1_b/n_d1)\n",
    "    else:\n",
    "        loss = n_d1/n_data*2*(d1_m/n_d1*d1_b/n_d1) + n_d2/n_data*2*(d2_m/n_d2*d2_b/n_d2)\n",
    "    return loss, d1_m>d1_b, d2_m>d2_b\n",
    "\n",
    "if __name__ == '__main__':\n",
    "    # test, where I choose label col as selected feature\n",
    "    index = 23\n",
    "    test_sep = (max(data[:, index])+min(data[:,index]))/2\n",
    "#     test_sep = 868.2\n",
    "    print('sep_point:', test_sep)\n",
    "    print('gini_loss:', gini_loss(data, index, test_sep)[0])\n",
    "    "
   ]
  },
  {
   "cell_type": "code",
   "execution_count": null,
   "metadata": {
    "scrolled": false
   },
   "outputs": [
    {
     "name": "stderr",
     "output_type": "stream",
     "text": [
      " 23%|██▎       | 7/30 [00:11<00:38,  1.68s/it]"
     ]
    }
   ],
   "source": [
    "n_features = 30\n",
    "n_stop_samples = 2    # here, I select last number of samples more than 2 as stop condition\n",
    "\n",
    "# recursive stop condtion\n",
    "def searchBestSegPoint(data, n_stop_samples):\n",
    "    n_samples_p = data.shape[0]     # number of samples at TreeNode p\n",
    "    if (n_samples_p<=n_stop_samples):\n",
    "        return\n",
    "    \n",
    "    best_seg_point = [1.0, 0, 0]    # record 3 values: gini_loss, index, seg_value\n",
    "    for i in tqdm(range(n_features)):\n",
    "        features = np.sort(data[:, i])    # sort from low to high\n",
    "        for j in range(n_samples_p-1):\n",
    "            seg_value = (features[j] + features[j+1])/2+1e-5\n",
    "#             print(i, j, seg_value, data.shape)\n",
    "            loss, left_label, right_label = gini_loss(data, i, seg_value)\n",
    "            # update best_seg_point\n",
    "            if (loss < best_seg_point[0]):\n",
    "                best_seg_point[0] = loss\n",
    "                best_seg_point[1] = i\n",
    "                best_seg_point[2] = seg_value\n",
    "                \n",
    "    return best_seg_point\n",
    "\n",
    "# test\n",
    "if __name__ == '__main__':\n",
    "    test = searchBestSegPoint(data, n_stop_samples)\n",
    "    print(test)"
   ]
  },
  {
   "cell_type": "code",
   "execution_count": null,
   "metadata": {
    "scrolled": false
   },
   "outputs": [],
   "source": [
    "def split2subData(data, best_seg_point):\n",
    "    \"\"\"\n",
    "    According to the best seg point, split data to two sub-data at node p.\n",
    "    \"\"\"\n",
    "    _, index, seg_value = best_seg_point\n",
    "    left_data = data[list(data[:, index]<seg_value)]\n",
    "    right_data = data[list(data[:, index]>seg_value)]\n",
    "    return left_data, right_data\n",
    "\n",
    "# test\n",
    "# if __name__ == '__main__':\n",
    "#     left, right = split2subData(data, a)\n",
    "#     print(left.shape, right.shape)"
   ]
  },
  {
   "cell_type": "code",
   "execution_count": null,
   "metadata": {
    "scrolled": false
   },
   "outputs": [],
   "source": [
    "# define tree node\n",
    "class TreeNode:\n",
    "    \n",
    "    def __init__(self, best_seg_point):\n",
    "        self.feature_col = best_seg_point[1]\n",
    "        self.seg_val = best_seg_point[2]\n",
    "        self.label = 0\n",
    "        self.left_node = None\n",
    "        self.right_node = None\n",
    "\n",
    "# if __name__ == '__main__':\n",
    "#     best_seg_point = searchBestSegPoint(data[:2, :], n_stop_samples)\n",
    "#     if best_seg_point:\n",
    "#         root = TreeNode(best_seg_point)\n",
    "#     else:\n",
    "#         print('None')\n",
    "        "
   ]
  },
  {
   "cell_type": "code",
   "execution_count": null,
   "metadata": {
    "scrolled": false
   },
   "outputs": [],
   "source": [
    "def build_CART(data, n_stop_samples, depth):\n",
    "    # the tree limist to 3 layers depth\n",
    "    if depth > 3:\n",
    "        return None\n",
    "    \n",
    "    best_seg_point = searchBestSegPoint(data, n_stop_samples)\n",
    "    # mark label\n",
    "    label = 0 if (sum(data[:, -1]<0.5)>sum(data[:, -1]>0.5)) else 1\n",
    "    \n",
    "    if best_seg_point:\n",
    "        gini_loss = best_seg_point[0]\n",
    "        if gini_loss>5e-3:\n",
    "            node = TreeNode(best_seg_point)\n",
    "            node.label = label\n",
    "            # split to two data-set\n",
    "            left_data, right_data = split2subData(data, best_seg_point)\n",
    "            print(gini_loss, left_data.shape, right_data.shape)\n",
    "            # recursive\n",
    "            depth += 1\n",
    "            node.left_node = build_CART(left_data, n_stop_samples, depth)\n",
    "            node.right_node = build_CART(right_data, n_stop_samples, depth)\n",
    "        else:\n",
    "            return None\n",
    "\n",
    "    else:\n",
    "        return None\n",
    "    \n",
    "    return node\n",
    "\n",
    "if __name__ == '__main__':\n",
    "    root = build_CART(tt, 5, 0)\n",
    "    \n",
    "        "
   ]
  },
  {
   "cell_type": "code",
   "execution_count": null,
   "metadata": {
    "scrolled": true
   },
   "outputs": [],
   "source": [
    "root.feature_col, root.seg_val, root.label,"
   ]
  },
  {
   "cell_type": "code",
   "execution_count": null,
   "metadata": {
    "scrolled": true
   },
   "outputs": [],
   "source": [
    "def test(val_set, decision_tree):\n",
    "    n_samples = val_set.shape[0]\n",
    "    pred = np.zeros(n_samples)    # predict array\n",
    "    target = val_set[:, -1].astype('int')\n",
    "    \n",
    "    for i in range(n_samples):\n",
    "        node = decision_tree\n",
    "        sample = val_set[i, :]\n",
    "        while(node):\n",
    "            pred[i] = node.label\n",
    "            if sample[node.feature_col]<node.seg_val:\n",
    "                node = node.left_node\n",
    "            else:\n",
    "                node = node.right_node\n",
    "    acc = sum(pred==target)/n_samples\n",
    "    return acc\n",
    "\n",
    "# test\n",
    "if __name__ == '__main__':\n",
    "    tt_y = np.expand_dims(test_y, 1)\n",
    "    ttt = np.c_[test_x, tt_y] \n",
    "    print('Test_scores:', test(ttt, root))"
   ]
  },
  {
   "cell_type": "code",
   "execution_count": null,
   "metadata": {
    "scrolled": false
   },
   "outputs": [],
   "source": [
    "# five-fold cross-validation\n",
    "k_fold = 5\n",
    "n_samples = data.shape[0]\n",
    "n_sample_fold = n_samples//k_fold\n",
    "acc_list = []\n",
    "\n",
    "for i in range(k_fold):\n",
    "    begin_index, end_index = i*n_sample_fold, min((i+1)*n_sample_fold, n_samples)\n",
    "    val_set = data[begin_index: end_index]\n",
    "    train_set = np.r_[data[:begin_index], data[end_index:]]\n",
    "    print('Loop:', i, begin_index, end_index, val_set.shape[0], train_set.shape[0])\n",
    "    \n",
    "#     assert val_set.shape[0]+ train_set.shape[0] == n_samples, print('Error:', i, val_set.shape[0], train_set.shape[0])\n",
    "    \n",
    "    # TODO, main program\n",
    "    root = build_CART(train_set, 5)\n",
    "    acc = test(val_set, root)\n",
    "    acc_list.append(acc)"
   ]
  },
  {
   "cell_type": "code",
   "execution_count": null,
   "metadata": {
    "scrolled": false
   },
   "outputs": [],
   "source": [
    "print(acc_list)\n",
    "print(sum(acc_list)/len(acc_list))"
   ]
  },
  {
   "cell_type": "markdown",
   "metadata": {},
   "source": [
    "## BenchMark comparison\n",
    "\n",
    "Applying sklearn.tree.DecisionTreeClassifier I also build a decision tree "
   ]
  },
  {
   "cell_type": "code",
   "execution_count": null,
   "metadata": {
    "scrolled": false
   },
   "outputs": [],
   "source": [
    "from sklearn.tree import DecisionTreeClassifier\n",
    "from sklearn.model_selection import cross_val_score, train_test_split\n"
   ]
  },
  {
   "cell_type": "code",
   "execution_count": null,
   "metadata": {
    "scrolled": false
   },
   "outputs": [],
   "source": [
    "# define CART tree\n",
    "clf = DecisionTreeClassifier()\n",
    "\n",
    "# cross-validataion\n",
    "scores = cross_val_score(clf, x, labels, cv=5)\n",
    "print(scores)\n",
    "print('The avg acc is: {}'.format(sum(scores)/len(scores)))"
   ]
  },
  {
   "cell_type": "code",
   "execution_count": null,
   "metadata": {
    "scrolled": false
   },
   "outputs": [],
   "source": [
    "# 可视化展示\n",
    "import pydotplus\n",
    "from sklearn.tree import export_graphviz\n",
    "from IPython.display import Image\n",
    "\n",
    "# fit data\n",
    "train_x, test_x, train_y, test_y = train_test_split(x, labels, test_size=0.2)\n",
    "clf = DecisionTreeClassifier(criterion='gini',  max_depth=3)\n",
    "clf = clf.fit(train_x, train_y)\n",
    "score = clf.score(test_x, test_y)\n",
    "print('Test scores: {}'.format(score))\n",
    "\n",
    "dot_Data = export_graphviz(clf, out_file=None)\n",
    "graph_clf = pydotplus.graph_from_dot_data(dot_Data)\n",
    "Image(graph_clf.create_png())"
   ]
  },
  {
   "cell_type": "code",
   "execution_count": null,
   "metadata": {
    "scrolled": false
   },
   "outputs": [],
   "source": [
    "def first_order_traverse(node, i):\n",
    "    if node:\n",
    "        print(i, node.feature_col, node.seg_val, node.label)\n",
    "        first_order_traverse(node.left_node, i+1)\n",
    "        first_order_traverse(node.right_node, i+2)\n",
    "\n",
    "first_order_traverse(root, 0)"
   ]
  },
  {
   "cell_type": "code",
   "execution_count": null,
   "metadata": {
    "scrolled": false
   },
   "outputs": [],
   "source": [
    "root.left_node.feature_col"
   ]
  },
  {
   "cell_type": "code",
   "execution_count": null,
   "metadata": {
    "scrolled": false
   },
   "outputs": [],
   "source": []
  }
 ],
 "metadata": {
  "kernelspec": {
   "display_name": "Python 3",
   "language": "python",
   "name": "python3"
  },
  "language_info": {
   "codemirror_mode": {
    "name": "ipython",
    "version": 3
   },
   "file_extension": ".py",
   "mimetype": "text/x-python",
   "name": "python",
   "nbconvert_exporter": "python",
   "pygments_lexer": "ipython3",
   "version": "3.7.4"
  }
 },
 "nbformat": 4,
 "nbformat_minor": 2
}
